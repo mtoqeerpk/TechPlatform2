{
 "cells": [
  {
   "cell_type": "code",
   "execution_count": 55,
   "metadata": {},
   "outputs": [
    {
     "name": "stdout",
     "output_type": "stream",
     "text": [
      "(134.63968515384826, 450.0)\n"
     ]
    }
   ],
   "source": [
    "import numpy as np\n",
    "from pyproj import Proj, transform\n",
    "import matplotlib.pyplot as plt\n",
    "\n",
    "# Array radius\n",
    "R = 75.0\n",
    "# Number of division\n",
    "ndiv = 7\n",
    "# Middle sensor\n",
    "flag_s0 = True\n",
    "# outfile\n",
    "outfile = 'CULC_Array150-plan1.txt'\n",
    "# Array central location near CULC\n",
    "#lat0, lon0 = -42.760618, 172.803985 # plan0\n",
    "lat0, lon0 = -42.758493, 172.805354 # plan1\n",
    "\n",
    "# Input and output projections\n",
    "ProjLonLat = Proj(init='epsg:4326') #WGS84\n",
    "ProjXY = Proj(init='epsg:2193') #NZTM2000\n",
    "#ProjXY = Proj(init='epsg:2134') #UTM59S\n",
    "\n",
    "lambdamin = 4.0*np.pi*R/ndiv\n",
    "lambdamax = 3.0*2.0*R\n",
    "print(lambdamin, lambdamax)"
   ]
  },
  {
   "cell_type": "code",
   "execution_count": 56,
   "metadata": {
    "collapsed": true
   },
   "outputs": [],
   "source": [
    "x0, y0 = transform(ProjLonLat,ProjXY,lon0,lat0)"
   ]
  },
  {
   "cell_type": "code",
   "execution_count": 57,
   "metadata": {
    "collapsed": true
   },
   "outputs": [],
   "source": [
    "# Angles\n",
    "list_theta = np.arange(ndiv)/float(ndiv)*360.0\n",
    "\n",
    "if flag_s0:\n",
    "    nsta = ndiv+1\n",
    "else:\n",
    "    nsta = ndiv\n",
    "\n",
    "list_x = np.empty(nsta)\n",
    "list_y = np.empty(nsta)\n",
    "\n",
    "# Loop over the angles\n",
    "for ind, theta in enumerate(list_theta):\n",
    "    list_x[ind] = x0 + float(R)*np.cos(theta/180.0*np.pi)\n",
    "    list_y[ind] = y0 + float(R)*np.sin(theta/180.0*np.pi)\n",
    "if flag_s0:\n",
    "    list_x[-1] = x0\n",
    "    list_y[-1] = y0"
   ]
  },
  {
   "cell_type": "code",
   "execution_count": 58,
   "metadata": {
    "collapsed": true
   },
   "outputs": [],
   "source": [
    "list_lon, list_lat = transform(ProjXY, ProjLonLat, list_x, list_y)\n",
    "fout = open(outfile, 'w')\n",
    "fout.write('Latitude Longitude\\n')\n",
    "np.savetxt(fout, zip(list_lat, list_lon), fmt = '%.8f')\n",
    "fout.close()"
   ]
  },
  {
   "cell_type": "code",
   "execution_count": 59,
   "metadata": {
    "collapsed": true
   },
   "outputs": [],
   "source": [
    "#print(zip(list_lat, list_lon))"
   ]
  },
  {
   "cell_type": "code",
   "execution_count": 60,
   "metadata": {},
   "outputs": [
    {
     "data": {
      "image/png": "[encoded data removed]",
      "text/plain": [
       "<matplotlib.figure.Figure at 0x11b017910>"
      ]
     },
     "metadata": {},
     "output_type": "display_data"
    }
   ],
   "source": [
    "#plt.plot(x0, y0, 'ro')\n",
    "plt.plot(list_x, list_y, 'o')\n",
    "plt.axis('equal')\n",
    "plt.show()"
   ]
  },
  {
   "cell_type": "code",
   "execution_count": null,
   "metadata": {
    "collapsed": true
   },
   "outputs": [],
   "source": []
  }
 ],
 "metadata": {
  "kernelspec": {
   "display_name": "Python 2",
   "language": "python",
   "name": "python2"
  },
  "language_info": {
   "codemirror_mode": {
    "name": "ipython",
    "version": 2
   },
   "file_extension": ".py",
   "mimetype": "text/x-python",
   "name": "python",
   "nbconvert_exporter": "python",
   "pygments_lexer": "ipython2",
   "version": "2.7.13"
  }
 },
 "nbformat": 4,
 "nbformat_minor": 2
}
